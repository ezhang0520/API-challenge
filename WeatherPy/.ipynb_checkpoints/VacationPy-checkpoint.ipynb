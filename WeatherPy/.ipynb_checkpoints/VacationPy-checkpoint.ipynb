{
 "cells": [
  {
   "cell_type": "markdown",
   "metadata": {},
   "source": [
    "# VacationPy\n",
    "----\n",
    "\n",
    "#### Note\n",
    "* Instructions have been included for each segment. You do not have to follow them exactly, but they are included to help you think through the steps."
   ]
  },
  {
   "cell_type": "code",
<<<<<<< HEAD
   "execution_count": 35,
=======
   "execution_count": 2,
>>>>>>> d49d30c42ec6de216950acdda8cb08894e567c01
   "metadata": {},
   "outputs": [],
   "source": [
    "# Dependencies and Setup\n",
    "import matplotlib.pyplot as plt\n",
    "import pandas as pd\n",
    "import numpy as np\n",
    "import requests\n",
    "import gmaps\n",
    "import gmaps.datasets\n",
    "import os\n",
<<<<<<< HEAD
    "import json\n",
=======
>>>>>>> d49d30c42ec6de216950acdda8cb08894e567c01
    "\n",
    "# Import API key\n",
    "from api_keys import g_key"
   ]
  },
  {
   "cell_type": "markdown",
   "metadata": {},
   "source": [
    "### Store Part I results into DataFrame\n",
    "* Load the csv exported in Part I to a DataFrame"
   ]
  },
  {
   "cell_type": "code",
   "execution_count": 3,
   "metadata": {},
   "outputs": [
    {
     "data": {
      "text/html": [
       "<div>\n",
       "<style scoped>\n",
       "    .dataframe tbody tr th:only-of-type {\n",
       "        vertical-align: middle;\n",
       "    }\n",
       "\n",
       "    .dataframe tbody tr th {\n",
       "        vertical-align: top;\n",
       "    }\n",
       "\n",
       "    .dataframe thead th {\n",
       "        text-align: right;\n",
       "    }\n",
       "</style>\n",
       "<table border=\"1\" class=\"dataframe\">\n",
       "  <thead>\n",
       "    <tr style=\"text-align: right;\">\n",
       "      <th></th>\n",
       "      <th>Unnamed: 0</th>\n",
       "      <th>City</th>\n",
       "      <th>Cloudiness</th>\n",
       "      <th>Country</th>\n",
       "      <th>Date</th>\n",
       "      <th>Humidity</th>\n",
       "      <th>Lat</th>\n",
       "      <th>Lng</th>\n",
       "      <th>Max Temp</th>\n",
       "      <th>Wind Speed</th>\n",
       "    </tr>\n",
       "  </thead>\n",
       "  <tbody>\n",
       "    <tr>\n",
       "      <td>0</td>\n",
       "      <td>0</td>\n",
       "      <td>castro</td>\n",
       "      <td>100</td>\n",
       "      <td>BR</td>\n",
       "      <td>1580356866</td>\n",
       "      <td>98</td>\n",
       "      <td>-24.79</td>\n",
       "      <td>-50.01</td>\n",
       "      <td>66.25</td>\n",
       "      <td>2.39</td>\n",
       "    </tr>\n",
       "    <tr>\n",
       "      <td>1</td>\n",
       "      <td>1</td>\n",
       "      <td>vaini</td>\n",
       "      <td>75</td>\n",
       "      <td>TO</td>\n",
       "      <td>1580357137</td>\n",
       "      <td>79</td>\n",
       "      <td>-21.20</td>\n",
       "      <td>-175.20</td>\n",
       "      <td>86.00</td>\n",
       "      <td>5.82</td>\n",
       "    </tr>\n",
       "    <tr>\n",
       "      <td>2</td>\n",
       "      <td>2</td>\n",
       "      <td>nanortalik</td>\n",
       "      <td>0</td>\n",
       "      <td>GL</td>\n",
       "      <td>1580356937</td>\n",
       "      <td>48</td>\n",
       "      <td>60.14</td>\n",
       "      <td>-45.24</td>\n",
       "      <td>22.08</td>\n",
       "      <td>25.99</td>\n",
       "    </tr>\n",
       "    <tr>\n",
       "      <td>3</td>\n",
       "      <td>3</td>\n",
       "      <td>severo-kurilsk</td>\n",
       "      <td>100</td>\n",
       "      <td>RU</td>\n",
       "      <td>1580356935</td>\n",
       "      <td>85</td>\n",
       "      <td>50.68</td>\n",
       "      <td>156.12</td>\n",
       "      <td>23.07</td>\n",
       "      <td>1.36</td>\n",
       "    </tr>\n",
       "    <tr>\n",
       "      <td>4</td>\n",
       "      <td>4</td>\n",
       "      <td>bluff</td>\n",
       "      <td>100</td>\n",
       "      <td>NZ</td>\n",
       "      <td>1580356937</td>\n",
       "      <td>51</td>\n",
       "      <td>-46.60</td>\n",
       "      <td>168.33</td>\n",
       "      <td>71.01</td>\n",
       "      <td>21.00</td>\n",
       "    </tr>\n",
       "  </tbody>\n",
       "</table>\n",
       "</div>"
      ],
      "text/plain": [
       "   Unnamed: 0            City  Cloudiness Country        Date  Humidity  \\\n",
       "0           0          castro         100      BR  1580356866        98   \n",
       "1           1           vaini          75      TO  1580357137        79   \n",
       "2           2      nanortalik           0      GL  1580356937        48   \n",
       "3           3  severo-kurilsk         100      RU  1580356935        85   \n",
       "4           4           bluff         100      NZ  1580356937        51   \n",
       "\n",
       "     Lat     Lng  Max Temp  Wind Speed  \n",
       "0 -24.79  -50.01     66.25        2.39  \n",
       "1 -21.20 -175.20     86.00        5.82  \n",
       "2  60.14  -45.24     22.08       25.99  \n",
       "3  50.68  156.12     23.07        1.36  \n",
       "4 -46.60  168.33     71.01       21.00  "
      ]
     },
     "execution_count": 3,
     "metadata": {},
     "output_type": "execute_result"
    }
   ],
   "source": [
<<<<<<< HEAD
    "load_csv = \"output_data/weather_df.csv\"\n",
    "weather_df = pd.read_csv(load_csv)\n",
=======
    "weather_csv_file = \"output_data/weather_df.csv\"\n",
    "\n",
    "weather_df = pd.read_csv(weather_csv_file)\n",
    "\n",
>>>>>>> d49d30c42ec6de216950acdda8cb08894e567c01
    "weather_df.head()"
   ]
  },
  {
   "cell_type": "markdown",
   "metadata": {},
   "source": [
    "### Humidity Heatmap\n",
    "* Configure gmaps.\n",
    "* Use the Lat and Lng as locations and Humidity as the weight.\n",
    "* Add Heatmap layer to map."
   ]
  },
  {
   "cell_type": "code",
<<<<<<< HEAD
   "execution_count": 36,
=======
   "execution_count": 11,
>>>>>>> d49d30c42ec6de216950acdda8cb08894e567c01
   "metadata": {},
   "outputs": [
    {
     "data": {
      "application/vnd.jupyter.widget-view+json": {
<<<<<<< HEAD
       "model_id": "bf3ee84e77354add8bc68ba08676ce60",
=======
       "model_id": "7f1e43582f1745b1b86c00270a12f3b7",
>>>>>>> d49d30c42ec6de216950acdda8cb08894e567c01
       "version_major": 2,
       "version_minor": 0
      },
      "text/plain": [
       "Figure(layout=FigureLayout(height='420px'))"
      ]
     },
     "metadata": {},
     "output_type": "display_data"
    }
   ],
   "source": [
    "gmaps.configure(api_key=g_key)\n",
    "\n",
<<<<<<< HEAD
=======
    "weather_df = weather_df.dropna()\n",
    "\n",
>>>>>>> d49d30c42ec6de216950acdda8cb08894e567c01
    "humidity = weather_df[\"Humidity\"].astype(float)\n",
    "locations = weather_df[[\"Lat\", \"Lng\"]].astype(float)\n",
    "\n",
    "fig = gmaps.figure()\n",
    "\n",
    "heat_layer = gmaps.heatmap_layer(locations, weights=humidity, \n",
<<<<<<< HEAD
    "                                 dissipating=False, max_intensity=50,\n",
    "                                 point_radius =5)\n",
=======
    "                                 dissipating=False, max_intensity=max(weather_df[\"Humidity\"]),\n",
    "                                 point_radius = 2)\n",
>>>>>>> d49d30c42ec6de216950acdda8cb08894e567c01
    "\n",
    "fig.add_layer(heat_layer)\n",
    "\n",
    "fig"
   ]
  },
  {
   "cell_type": "markdown",
   "metadata": {},
   "source": [
    "### Create new DataFrame fitting weather criteria\n",
    "* Narrow down the cities to fit weather conditions.\n",
    "* Drop any rows will null values."
   ]
  },
  {
   "cell_type": "code",
<<<<<<< HEAD
   "execution_count": 37,
=======
   "execution_count": 14,
>>>>>>> d49d30c42ec6de216950acdda8cb08894e567c01
   "metadata": {},
   "outputs": [
    {
     "data": {
      "text/html": [
       "<div>\n",
       "<style scoped>\n",
       "    .dataframe tbody tr th:only-of-type {\n",
       "        vertical-align: middle;\n",
       "    }\n",
       "\n",
       "    .dataframe tbody tr th {\n",
       "        vertical-align: top;\n",
       "    }\n",
       "\n",
       "    .dataframe thead th {\n",
       "        text-align: right;\n",
       "    }\n",
       "</style>\n",
       "<table border=\"1\" class=\"dataframe\">\n",
       "  <thead>\n",
       "    <tr style=\"text-align: right;\">\n",
       "      <th></th>\n",
<<<<<<< HEAD
       "      <th>index</th>\n",
=======
       "      <th>Unnamed: 0</th>\n",
>>>>>>> d49d30c42ec6de216950acdda8cb08894e567c01
       "      <th>City</th>\n",
       "      <th>Cloudiness</th>\n",
       "      <th>Country</th>\n",
       "      <th>Date</th>\n",
       "      <th>Humidity</th>\n",
       "      <th>Lat</th>\n",
       "      <th>Lng</th>\n",
       "      <th>Max Temp</th>\n",
       "      <th>Wind Speed</th>\n",
       "    </tr>\n",
       "  </thead>\n",
       "  <tbody>\n",
       "    <tr>\n",
<<<<<<< HEAD
       "      <td>0</td>\n",
=======
       "      <td>8</td>\n",
>>>>>>> d49d30c42ec6de216950acdda8cb08894e567c01
       "      <td>8</td>\n",
       "      <td>santa rosa</td>\n",
       "      <td>0</td>\n",
       "      <td>PH</td>\n",
       "      <td>1580356963</td>\n",
       "      <td>58</td>\n",
       "      <td>17.49</td>\n",
       "      <td>120.43</td>\n",
       "      <td>78.48</td>\n",
       "      <td>8.01</td>\n",
       "    </tr>\n",
       "    <tr>\n",
<<<<<<< HEAD
       "      <td>1</td>\n",
=======
       "      <td>257</td>\n",
>>>>>>> d49d30c42ec6de216950acdda8cb08894e567c01
       "      <td>257</td>\n",
       "      <td>santa maria</td>\n",
       "      <td>0</td>\n",
       "      <td>PH</td>\n",
       "      <td>1580356963</td>\n",
       "      <td>58</td>\n",
       "      <td>17.49</td>\n",
       "      <td>120.43</td>\n",
       "      <td>78.48</td>\n",
       "      <td>8.01</td>\n",
       "    </tr>\n",
       "    <tr>\n",
<<<<<<< HEAD
       "      <td>2</td>\n",
=======
       "      <td>324</td>\n",
>>>>>>> d49d30c42ec6de216950acdda8cb08894e567c01
       "      <td>324</td>\n",
       "      <td>dargaville</td>\n",
       "      <td>0</td>\n",
       "      <td>NZ</td>\n",
       "      <td>1580356970</td>\n",
       "      <td>57</td>\n",
       "      <td>-35.93</td>\n",
       "      <td>173.88</td>\n",
       "      <td>77.34</td>\n",
       "      <td>9.91</td>\n",
       "    </tr>\n",
       "    <tr>\n",
<<<<<<< HEAD
       "      <td>3</td>\n",
=======
       "      <td>330</td>\n",
>>>>>>> d49d30c42ec6de216950acdda8cb08894e567c01
       "      <td>330</td>\n",
       "      <td>fuerte olimpo</td>\n",
       "      <td>0</td>\n",
       "      <td>PH</td>\n",
       "      <td>1580356971</td>\n",
       "      <td>58</td>\n",
       "      <td>17.54</td>\n",
       "      <td>120.36</td>\n",
       "      <td>78.48</td>\n",
       "      <td>8.01</td>\n",
       "    </tr>\n",
       "    <tr>\n",
<<<<<<< HEAD
       "      <td>4</td>\n",
=======
       "      <td>520</td>\n",
>>>>>>> d49d30c42ec6de216950acdda8cb08894e567c01
       "      <td>520</td>\n",
       "      <td>codrington</td>\n",
       "      <td>0</td>\n",
       "      <td>AU</td>\n",
       "      <td>1580356991</td>\n",
       "      <td>44</td>\n",
       "      <td>-38.27</td>\n",
       "      <td>141.97</td>\n",
       "      <td>76.53</td>\n",
       "      <td>8.48</td>\n",
       "    </tr>\n",
       "  </tbody>\n",
       "</table>\n",
       "</div>"
      ],
      "text/plain": [
<<<<<<< HEAD
       "   index           City  Cloudiness Country        Date  Humidity    Lat  \\\n",
       "0      8     santa rosa           0      PH  1580356963        58  17.49   \n",
       "1    257    santa maria           0      PH  1580356963        58  17.49   \n",
       "2    324     dargaville           0      NZ  1580356970        57 -35.93   \n",
       "3    330  fuerte olimpo           0      PH  1580356971        58  17.54   \n",
       "4    520     codrington           0      AU  1580356991        44 -38.27   \n",
       "\n",
       "      Lng  Max Temp  Wind Speed  \n",
       "0  120.43     78.48        8.01  \n",
       "1  120.43     78.48        8.01  \n",
       "2  173.88     77.34        9.91  \n",
       "3  120.36     78.48        8.01  \n",
       "4  141.97     76.53        8.48  "
      ]
     },
     "execution_count": 37,
=======
       "     Unnamed: 0           City  Cloudiness Country        Date  Humidity  \\\n",
       "8             8     santa rosa           0      PH  1580356963        58   \n",
       "257         257    santa maria           0      PH  1580356963        58   \n",
       "324         324     dargaville           0      NZ  1580356970        57   \n",
       "330         330  fuerte olimpo           0      PH  1580356971        58   \n",
       "520         520     codrington           0      AU  1580356991        44   \n",
       "\n",
       "       Lat     Lng  Max Temp  Wind Speed  \n",
       "8    17.49  120.43     78.48        8.01  \n",
       "257  17.49  120.43     78.48        8.01  \n",
       "324 -35.93  173.88     77.34        9.91  \n",
       "330  17.54  120.36     78.48        8.01  \n",
       "520 -38.27  141.97     76.53        8.48  "
      ]
     },
     "execution_count": 14,
>>>>>>> d49d30c42ec6de216950acdda8cb08894e567c01
     "metadata": {},
     "output_type": "execute_result"
    }
   ],
   "source": [
    "new_weather_df = weather_df\n",
    "\n",
    "new_weather_df = new_weather_df.loc[(new_weather_df[\"Max Temp\"] < 80) & (new_weather_df[\"Max Temp\"] > 70)]\n",
<<<<<<< HEAD
    "new_weather_df = new_weather_df.loc[new_weather_df[\"Wind Speed\"] < 10]\n",
    "new_weather_df = new_weather_df.loc[new_weather_df[\"Cloudiness\"] == 0]\n",
    "new_weather_df = new_weather_df.dropna()\n",
    "new_weather_df = new_weather_df.reset_index()\n",
    "new_weather_df = new_weather_df.loc[:, ~new_weather_df.columns.str.contains('^Unnamed')]\n",
=======
    "\n",
    "# Wind speed less than 10 mph.\n",
    "new_weather_df = new_weather_df.loc[new_weather_df[\"Wind Speed\"] < 10]\n",
    "\n",
    "# Zero cloudiness.\n",
    "new_weather_df = new_weather_df.loc[new_weather_df[\"Cloudiness\"] == 0]\n",
    "\n",
    "# Drop any rows with null values\n",
    "new_weather_df = new_weather_df.dropna()\n",
    "\n",
>>>>>>> d49d30c42ec6de216950acdda8cb08894e567c01
    "new_weather_df"
   ]
  },
  {
   "cell_type": "markdown",
   "metadata": {},
   "source": [
    "### Hotel Map\n",
    "* Store into variable named `hotel_df`.\n",
    "* Add a \"Hotel Name\" column to the DataFrame.\n",
    "* Set parameters to search for hotels with 5000 meters.\n",
    "* Hit the Google Places API for each city's coordinates.\n",
    "* Store the first Hotel result into the DataFrame.\n",
    "* Plot markers on top of the heatmap."
   ]
  },
  {
   "cell_type": "code",
<<<<<<< HEAD
   "execution_count": 38,
   "metadata": {},
   "outputs": [
    {
     "data": {
      "text/html": [
       "<div>\n",
       "<style scoped>\n",
       "    .dataframe tbody tr th:only-of-type {\n",
       "        vertical-align: middle;\n",
       "    }\n",
       "\n",
       "    .dataframe tbody tr th {\n",
       "        vertical-align: top;\n",
       "    }\n",
       "\n",
       "    .dataframe thead th {\n",
       "        text-align: right;\n",
       "    }\n",
       "</style>\n",
       "<table border=\"1\" class=\"dataframe\">\n",
       "  <thead>\n",
       "    <tr style=\"text-align: right;\">\n",
       "      <th></th>\n",
       "      <th>index</th>\n",
       "      <th>City</th>\n",
       "      <th>Cloudiness</th>\n",
       "      <th>Country</th>\n",
       "      <th>Date</th>\n",
       "      <th>Humidity</th>\n",
       "      <th>Lat</th>\n",
       "      <th>Lng</th>\n",
       "      <th>Max Temp</th>\n",
       "      <th>Wind Speed</th>\n",
       "      <th>Hotel Name</th>\n",
       "    </tr>\n",
       "  </thead>\n",
       "  <tbody>\n",
       "    <tr>\n",
       "      <td>0</td>\n",
       "      <td>8</td>\n",
       "      <td>santa rosa</td>\n",
       "      <td>0</td>\n",
       "      <td>PH</td>\n",
       "      <td>1580356963</td>\n",
       "      <td>58</td>\n",
       "      <td>17.49</td>\n",
       "      <td>120.43</td>\n",
       "      <td>78.48</td>\n",
       "      <td>8.01</td>\n",
       "      <td></td>\n",
       "    </tr>\n",
       "    <tr>\n",
       "      <td>1</td>\n",
       "      <td>257</td>\n",
       "      <td>santa maria</td>\n",
       "      <td>0</td>\n",
       "      <td>PH</td>\n",
       "      <td>1580356963</td>\n",
       "      <td>58</td>\n",
       "      <td>17.49</td>\n",
       "      <td>120.43</td>\n",
       "      <td>78.48</td>\n",
       "      <td>8.01</td>\n",
       "      <td></td>\n",
       "    </tr>\n",
       "    <tr>\n",
       "      <td>2</td>\n",
       "      <td>324</td>\n",
       "      <td>dargaville</td>\n",
       "      <td>0</td>\n",
       "      <td>NZ</td>\n",
       "      <td>1580356970</td>\n",
       "      <td>57</td>\n",
       "      <td>-35.93</td>\n",
       "      <td>173.88</td>\n",
       "      <td>77.34</td>\n",
       "      <td>9.91</td>\n",
       "      <td></td>\n",
       "    </tr>\n",
       "    <tr>\n",
       "      <td>3</td>\n",
       "      <td>330</td>\n",
       "      <td>fuerte olimpo</td>\n",
       "      <td>0</td>\n",
       "      <td>PH</td>\n",
       "      <td>1580356971</td>\n",
       "      <td>58</td>\n",
       "      <td>17.54</td>\n",
       "      <td>120.36</td>\n",
       "      <td>78.48</td>\n",
       "      <td>8.01</td>\n",
       "      <td></td>\n",
       "    </tr>\n",
       "    <tr>\n",
       "      <td>4</td>\n",
       "      <td>520</td>\n",
       "      <td>codrington</td>\n",
       "      <td>0</td>\n",
       "      <td>AU</td>\n",
       "      <td>1580356991</td>\n",
       "      <td>44</td>\n",
       "      <td>-38.27</td>\n",
       "      <td>141.97</td>\n",
       "      <td>76.53</td>\n",
       "      <td>8.48</td>\n",
       "      <td></td>\n",
       "    </tr>\n",
       "  </tbody>\n",
       "</table>\n",
       "</div>"
      ],
      "text/plain": [
       "   index           City  Cloudiness Country        Date  Humidity    Lat  \\\n",
       "0      8     santa rosa           0      PH  1580356963        58  17.49   \n",
       "1    257    santa maria           0      PH  1580356963        58  17.49   \n",
       "2    324     dargaville           0      NZ  1580356970        57 -35.93   \n",
       "3    330  fuerte olimpo           0      PH  1580356971        58  17.54   \n",
       "4    520     codrington           0      AU  1580356991        44 -38.27   \n",
       "\n",
       "      Lng  Max Temp  Wind Speed Hotel Name  \n",
       "0  120.43     78.48        8.01             \n",
       "1  120.43     78.48        8.01             \n",
       "2  173.88     77.34        9.91             \n",
       "3  120.36     78.48        8.01             \n",
       "4  141.97     76.53        8.48             "
      ]
     },
     "execution_count": 38,
     "metadata": {},
     "output_type": "execute_result"
    }
   ],
   "source": [
    "hotel_df = new_weather_df\n",
    "hotel_df[\"Hotel Name\"] = \"\"\n",
    "\n",
    "hotel_df"
   ]
  },
  {
   "cell_type": "code",
   "execution_count": 39,
   "metadata": {},
   "outputs": [
    {
     "data": {
      "text/html": [
       "<div>\n",
       "<style scoped>\n",
       "    .dataframe tbody tr th:only-of-type {\n",
       "        vertical-align: middle;\n",
       "    }\n",
       "\n",
       "    .dataframe tbody tr th {\n",
       "        vertical-align: top;\n",
       "    }\n",
       "\n",
       "    .dataframe thead th {\n",
       "        text-align: right;\n",
       "    }\n",
       "</style>\n",
       "<table border=\"1\" class=\"dataframe\">\n",
       "  <thead>\n",
       "    <tr style=\"text-align: right;\">\n",
       "      <th></th>\n",
       "      <th>index</th>\n",
       "      <th>City</th>\n",
       "      <th>Cloudiness</th>\n",
       "      <th>Country</th>\n",
       "      <th>Date</th>\n",
       "      <th>Humidity</th>\n",
       "      <th>Lat</th>\n",
       "      <th>Lng</th>\n",
       "      <th>Max Temp</th>\n",
       "      <th>Wind Speed</th>\n",
       "      <th>Hotel Name</th>\n",
       "    </tr>\n",
       "  </thead>\n",
       "  <tbody>\n",
       "    <tr>\n",
       "      <td>0</td>\n",
       "      <td>8</td>\n",
       "      <td>santa rosa</td>\n",
       "      <td>0</td>\n",
       "      <td>PH</td>\n",
       "      <td>1580356963</td>\n",
       "      <td>58</td>\n",
       "      <td>17.49</td>\n",
       "      <td>120.43</td>\n",
       "      <td>78.48</td>\n",
       "      <td>8.01</td>\n",
       "      <td>Jane S. Canosa</td>\n",
       "    </tr>\n",
       "    <tr>\n",
       "      <td>1</td>\n",
       "      <td>257</td>\n",
       "      <td>santa maria</td>\n",
       "      <td>0</td>\n",
       "      <td>PH</td>\n",
       "      <td>1580356963</td>\n",
       "      <td>58</td>\n",
       "      <td>17.49</td>\n",
       "      <td>120.43</td>\n",
       "      <td>78.48</td>\n",
       "      <td>8.01</td>\n",
       "      <td>Jane S. Canosa</td>\n",
       "    </tr>\n",
       "    <tr>\n",
       "      <td>2</td>\n",
       "      <td>324</td>\n",
       "      <td>dargaville</td>\n",
       "      <td>0</td>\n",
       "      <td>NZ</td>\n",
       "      <td>1580356970</td>\n",
       "      <td>57</td>\n",
       "      <td>-35.93</td>\n",
       "      <td>173.88</td>\n",
       "      <td>77.34</td>\n",
       "      <td>9.91</td>\n",
       "      <td>Parkview Motel</td>\n",
       "    </tr>\n",
       "    <tr>\n",
       "      <td>3</td>\n",
       "      <td>330</td>\n",
       "      <td>fuerte olimpo</td>\n",
       "      <td>0</td>\n",
       "      <td>PH</td>\n",
       "      <td>1580356971</td>\n",
       "      <td>58</td>\n",
       "      <td>17.54</td>\n",
       "      <td>120.36</td>\n",
       "      <td>78.48</td>\n",
       "      <td>8.01</td>\n",
       "      <td>Giordion Inn</td>\n",
       "    </tr>\n",
       "    <tr>\n",
       "      <td>4</td>\n",
       "      <td>520</td>\n",
       "      <td>codrington</td>\n",
       "      <td>0</td>\n",
       "      <td>AU</td>\n",
       "      <td>1580356991</td>\n",
       "      <td>44</td>\n",
       "      <td>-38.27</td>\n",
       "      <td>141.97</td>\n",
       "      <td>76.53</td>\n",
       "      <td>8.48</td>\n",
       "      <td>Codrington Gardens Bed And Breakfast</td>\n",
       "    </tr>\n",
       "  </tbody>\n",
       "</table>\n",
       "</div>"
      ],
      "text/plain": [
       "   index           City  Cloudiness Country        Date  Humidity    Lat  \\\n",
       "0      8     santa rosa           0      PH  1580356963        58  17.49   \n",
       "1    257    santa maria           0      PH  1580356963        58  17.49   \n",
       "2    324     dargaville           0      NZ  1580356970        57 -35.93   \n",
       "3    330  fuerte olimpo           0      PH  1580356971        58  17.54   \n",
       "4    520     codrington           0      AU  1580356991        44 -38.27   \n",
       "\n",
       "      Lng  Max Temp  Wind Speed                            Hotel Name  \n",
       "0  120.43     78.48        8.01                        Jane S. Canosa  \n",
       "1  120.43     78.48        8.01                        Jane S. Canosa  \n",
       "2  173.88     77.34        9.91                        Parkview Motel  \n",
       "3  120.36     78.48        8.01                          Giordion Inn  \n",
       "4  141.97     76.53        8.48  Codrington Gardens Bed And Breakfast  "
      ]
     },
     "execution_count": 39,
     "metadata": {},
     "output_type": "execute_result"
    }
   ],
   "source": [
    "hotels = []\n",
    "\n",
    "for city in range(len(new_weather_df[\"City\"])):\n",
    "\n",
    "    lat = new_weather_df.loc[city][\"Lat\"]\n",
    "    lng = new_weather_df.loc[city][\"Lng\"]\n",
    "\n",
    "    city_coords = f\"{lat},{lng}\"\n",
    "\n",
    "    params = {\n",
    "        \"location\": city_coords, \n",
    "        \"types\": \"lodging\",\n",
    "        \"radius\": 5000,\n",
    "        \"key\": g_key\n",
    "    }\n",
    "\n",
    "    base_url = \"https://maps.googleapis.com/maps/api/place/nearbysearch/json\"   \n",
    "\n",
    "    hotel_request = requests.get(base_url, params=params)\n",
    "    hotel_response = hotel_request.json()\n",
    "\n",
    "    try:\n",
    "        hotels.append(hotel_response[\"results\"][0][\"name\"])\n",
    "    except:\n",
    "        hotels.append(\"hotel not found\")\n",
    "\n",
    "hotel_df[\"Hotel Name\"] = hotels\n",
    "hotel_df"
=======
   "execution_count": null,
   "metadata": {},
   "outputs": [],
   "source": []
  },
  {
   "cell_type": "code",
   "execution_count": null,
   "metadata": {},
   "outputs": [],
   "source": []
  },
  {
   "cell_type": "code",
   "execution_count": null,
   "metadata": {},
   "outputs": [],
   "source": [
    "\n"
>>>>>>> d49d30c42ec6de216950acdda8cb08894e567c01
   ]
  },
  {
   "cell_type": "code",
<<<<<<< HEAD
   "execution_count": 41,
=======
   "execution_count": null,
>>>>>>> d49d30c42ec6de216950acdda8cb08894e567c01
   "metadata": {},
   "outputs": [],
   "source": [
    "# NOTE: Do not change any of the code in this cell\n",
    "\n",
    "# Using the template add the hotel marks to the heatmap\n",
    "info_box_template = \"\"\"\n",
    "<dl>\n",
    "<dt>Name</dt><dd>{Hotel Name}</dd>\n",
    "<dt>City</dt><dd>{City}</dd>\n",
    "<dt>Country</dt><dd>{Country}</dd>\n",
    "</dl>\n",
    "\"\"\"\n",
    "# Store the DataFrame Row\n",
    "# NOTE: be sure to update with your DataFrame name\n",
<<<<<<< HEAD
    "hotel_info = [info_box_template.format(**row) for index, row in new_weather_df.iterrows()]\n",
=======
    "hotel_info = [info_box_template.format(**row) for index, row in narrowed_city_df.iterrows()]\n",
>>>>>>> d49d30c42ec6de216950acdda8cb08894e567c01
    "locations = hotel_df[[\"Lat\", \"Lng\"]]"
   ]
  },
  {
   "cell_type": "code",
<<<<<<< HEAD
   "execution_count": 42,
   "metadata": {},
   "outputs": [
    {
     "data": {
      "application/vnd.jupyter.widget-view+json": {
       "model_id": "5b3e7b4355094c31ad093198d65cfa4b",
       "version_major": 2,
       "version_minor": 0
      },
      "text/plain": [
       "Figure(layout=FigureLayout(height='420px'))"
      ]
     },
     "metadata": {},
     "output_type": "display_data"
    }
   ],
   "source": [
    "# Add marker layer ontop of heat map\n",
    "fig = gmaps.figure()\n",
    "markers = gmaps.marker_layer(locations, info_box_content=hotel_info)\n",
    "fig.add_layer(markers)\n",
    "fig"
   ]
  },
  {
   "cell_type": "code",
   "execution_count": null,
   "metadata": {},
   "outputs": [],
   "source": []
=======
   "execution_count": null,
   "metadata": {},
   "outputs": [],
   "source": [
    "# Add marker layer ontop of heat map\n",
    "\n",
    "\n",
    "# Display Map"
   ]
>>>>>>> d49d30c42ec6de216950acdda8cb08894e567c01
  }
 ],
 "metadata": {
  "kernelspec": {
   "display_name": "Python 3",
   "language": "python",
   "name": "python3"
  },
  "language_info": {
   "codemirror_mode": {
    "name": "ipython",
    "version": 3
   },
   "file_extension": ".py",
   "mimetype": "text/x-python",
   "name": "python",
   "nbconvert_exporter": "python",
   "pygments_lexer": "ipython3",
   "version": "3.7.4"
  },
  "latex_envs": {
   "LaTeX_envs_menu_present": true,
   "autoclose": false,
   "autocomplete": true,
   "bibliofile": "biblio.bib",
   "cite_by": "apalike",
   "current_citInitial": 1,
   "eqLabelWithNumbers": true,
   "eqNumInitial": 1,
   "hotkeys": {
    "equation": "Ctrl-E",
    "itemize": "Ctrl-I"
   },
   "labels_anchors": false,
   "latex_user_defs": false,
   "report_style_numbering": false,
   "user_envs_cfg": false
  }
 },
 "nbformat": 4,
 "nbformat_minor": 2
}
